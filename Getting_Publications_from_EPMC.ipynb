{
  "nbformat": 4,
  "nbformat_minor": 0,
  "metadata": {
    "colab": {
      "name": "Getting Publications from EPMC.ipynb",
      "provenance": [],
      "collapsed_sections": [
        "PRSacKJ6999N"
      ],
      "toc_visible": true,
      "include_colab_link": true
    },
    "kernelspec": {
      "name": "python3",
      "display_name": "Python 3"
    },
    "language_info": {
      "name": "python"
    }
  },
  "cells": [
    {
      "cell_type": "markdown",
      "metadata": {
        "id": "view-in-github",
        "colab_type": "text"
      },
      "source": [
        "<a href=\"https://colab.research.google.com/github/aCampello/Download_all_files_slack/blob/master/Getting_Publications_from_EPMC.ipynb\" target=\"_parent\"><img src=\"https://colab.research.google.com/assets/colab-badge.svg\" alt=\"Open In Colab\"/></a>"
      ]
    },
    {
      "cell_type": "markdown",
      "metadata": {
        "id": "mmJVkH9z4aDg"
      },
      "source": [
        "In this notebook we'll learn how to query the EPMC api using the `wellcomeml` set of utils. \n",
        "\n",
        "EPMC stands for Europe Pubmed Central. It is a central repository for academic publications in the life sciences. You can accss EPMC directly [here](https://europepmc.org). \n",
        "\n",
        "Wellcomeml is an awesome (unbiased opinion) python library of utils for text processing, querying external data for academic publications, and visualising text data. For more info and documentation: https://github.com/wellcometrust/wellcomeml."
      ]
    },
    {
      "cell_type": "markdown",
      "metadata": {
        "id": "ZZORUVct90Uu"
      },
      "source": [
        "# 🔧 Initial set-up\n",
        "\n",
        "Installing wellcomeml and its core dependencies:"
      ]
    },
    {
      "cell_type": "code",
      "metadata": {
        "id": "BZoWEi7_1j9b",
        "colab": {
          "base_uri": "https://localhost:8080/"
        },
        "outputId": "5617d189-0345-4d3c-d003-f7ed54397b46"
      },
      "source": [
        "pip install wellcomeml"
      ],
      "execution_count": null,
      "outputs": [
        {
          "output_type": "stream",
          "name": "stdout",
          "text": [
            "Collecting wellcomeml\n",
            "  Downloading wellcomeml-2.0.1-py3-none-any.whl (74 kB)\n",
            "\u001b[K     |████████████████████████████████| 74 kB 986 kB/s \n",
            "\u001b[?25hCollecting flake8\n",
            "  Downloading flake8-4.0.1-py2.py3-none-any.whl (64 kB)\n",
            "\u001b[K     |████████████████████████████████| 64 kB 1.4 MB/s \n",
            "\u001b[?25hCollecting boto3\n",
            "  Downloading boto3-1.20.12-py3-none-any.whl (131 kB)\n",
            "\u001b[K     |████████████████████████████████| 131 kB 58.3 MB/s \n",
            "\u001b[?25hRequirement already satisfied: cython in /usr/local/lib/python3.7/dist-packages (from wellcomeml) (0.29.24)\n",
            "Collecting twine\n",
            "  Downloading twine-3.6.0-py3-none-any.whl (35 kB)\n",
            "Requirement already satisfied: tqdm in /usr/local/lib/python3.7/dist-packages (from wellcomeml) (4.62.3)\n",
            "Collecting black\n",
            "  Downloading black-21.11b1-py3-none-any.whl (155 kB)\n",
            "\u001b[K     |████████████████████████████████| 155 kB 67.3 MB/s \n",
            "\u001b[?25hCollecting mypy-extensions>=0.4.3\n",
            "  Downloading mypy_extensions-0.4.3-py2.py3-none-any.whl (4.5 kB)\n",
            "Requirement already satisfied: typing-extensions>=3.10.0.0 in /usr/local/lib/python3.7/dist-packages (from black->wellcomeml) (3.10.0.2)\n",
            "Collecting pathspec<1,>=0.9.0\n",
            "  Downloading pathspec-0.9.0-py2.py3-none-any.whl (31 kB)\n",
            "Requirement already satisfied: click>=7.1.2 in /usr/local/lib/python3.7/dist-packages (from black->wellcomeml) (7.1.2)\n",
            "Collecting regex>=2021.4.4\n",
            "  Downloading regex-2021.11.10-cp37-cp37m-manylinux_2_17_x86_64.manylinux2014_x86_64.whl (749 kB)\n",
            "\u001b[K     |████████████████████████████████| 749 kB 33.0 MB/s \n",
            "\u001b[?25hRequirement already satisfied: tomli<2.0.0,>=0.2.6 in /usr/local/lib/python3.7/dist-packages (from black->wellcomeml) (1.2.2)\n",
            "Collecting platformdirs>=2\n",
            "  Downloading platformdirs-2.4.0-py3-none-any.whl (14 kB)\n",
            "Collecting typed-ast>=1.4.2\n",
            "  Downloading typed_ast-1.5.0-cp37-cp37m-manylinux_2_5_x86_64.manylinux1_x86_64.manylinux_2_12_x86_64.manylinux2010_x86_64.whl (843 kB)\n",
            "\u001b[K     |████████████████████████████████| 843 kB 48.0 MB/s \n",
            "\u001b[?25hCollecting botocore<1.24.0,>=1.23.12\n",
            "  Downloading botocore-1.23.12-py3-none-any.whl (8.2 MB)\n",
            "\u001b[K     |████████████████████████████████| 8.2 MB 24.7 MB/s \n",
            "\u001b[?25hCollecting s3transfer<0.6.0,>=0.5.0\n",
            "  Downloading s3transfer-0.5.0-py3-none-any.whl (79 kB)\n",
            "\u001b[K     |████████████████████████████████| 79 kB 6.2 MB/s \n",
            "\u001b[?25hCollecting jmespath<1.0.0,>=0.7.1\n",
            "  Downloading jmespath-0.10.0-py2.py3-none-any.whl (24 kB)\n",
            "Requirement already satisfied: python-dateutil<3.0.0,>=2.1 in /usr/local/lib/python3.7/dist-packages (from botocore<1.24.0,>=1.23.12->boto3->wellcomeml) (2.8.2)\n",
            "Collecting urllib3<1.27,>=1.25.4\n",
            "  Downloading urllib3-1.26.7-py2.py3-none-any.whl (138 kB)\n",
            "\u001b[K     |████████████████████████████████| 138 kB 57.6 MB/s \n",
            "\u001b[?25hRequirement already satisfied: six>=1.5 in /usr/local/lib/python3.7/dist-packages (from python-dateutil<3.0.0,>=2.1->botocore<1.24.0,>=1.23.12->boto3->wellcomeml) (1.15.0)\n",
            "Collecting pycodestyle<2.9.0,>=2.8.0\n",
            "  Downloading pycodestyle-2.8.0-py2.py3-none-any.whl (42 kB)\n",
            "\u001b[K     |████████████████████████████████| 42 kB 905 kB/s \n",
            "\u001b[?25hCollecting mccabe<0.7.0,>=0.6.0\n",
            "  Downloading mccabe-0.6.1-py2.py3-none-any.whl (8.6 kB)\n",
            "Collecting pyflakes<2.5.0,>=2.4.0\n",
            "  Downloading pyflakes-2.4.0-py2.py3-none-any.whl (69 kB)\n",
            "\u001b[K     |████████████████████████████████| 69 kB 7.3 MB/s \n",
            "\u001b[?25hCollecting importlib-metadata<4.3\n",
            "  Downloading importlib_metadata-4.2.0-py3-none-any.whl (16 kB)\n",
            "Requirement already satisfied: zipp>=0.5 in /usr/local/lib/python3.7/dist-packages (from importlib-metadata<4.3->flake8->wellcomeml) (3.6.0)\n",
            "Collecting colorama>=0.4.3\n",
            "  Downloading colorama-0.4.4-py2.py3-none-any.whl (16 kB)\n",
            "Collecting requests-toolbelt!=0.9.0,>=0.8.0\n",
            "  Downloading requests_toolbelt-0.9.1-py2.py3-none-any.whl (54 kB)\n",
            "\u001b[K     |████████████████████████████████| 54 kB 2.5 MB/s \n",
            "\u001b[?25hCollecting keyring>=15.1\n",
            "  Downloading keyring-23.2.1-py3-none-any.whl (33 kB)\n",
            "Requirement already satisfied: requests>=2.20 in /usr/local/lib/python3.7/dist-packages (from twine->wellcomeml) (2.23.0)\n",
            "Collecting rfc3986>=1.4.0\n",
            "  Downloading rfc3986-1.5.0-py2.py3-none-any.whl (31 kB)\n",
            "Collecting pkginfo>=1.4.2\n",
            "  Downloading pkginfo-1.8.1-py2.py3-none-any.whl (26 kB)\n",
            "Collecting readme-renderer>=21.0\n",
            "  Downloading readme_renderer-30.0-py2.py3-none-any.whl (15 kB)\n",
            "Collecting SecretStorage>=3.2\n",
            "  Downloading SecretStorage-3.3.1-py3-none-any.whl (15 kB)\n",
            "Collecting jeepney>=0.4.2\n",
            "  Downloading jeepney-0.7.1-py3-none-any.whl (54 kB)\n",
            "\u001b[K     |████████████████████████████████| 54 kB 2.4 MB/s \n",
            "\u001b[?25hRequirement already satisfied: bleach>=2.1.0 in /usr/local/lib/python3.7/dist-packages (from readme-renderer>=21.0->twine->wellcomeml) (4.1.0)\n",
            "Requirement already satisfied: Pygments>=2.5.1 in /usr/local/lib/python3.7/dist-packages (from readme-renderer>=21.0->twine->wellcomeml) (2.6.1)\n",
            "Requirement already satisfied: docutils>=0.13.1 in /usr/local/lib/python3.7/dist-packages (from readme-renderer>=21.0->twine->wellcomeml) (0.17.1)\n",
            "Requirement already satisfied: packaging in /usr/local/lib/python3.7/dist-packages (from bleach>=2.1.0->readme-renderer>=21.0->twine->wellcomeml) (21.3)\n",
            "Requirement already satisfied: webencodings in /usr/local/lib/python3.7/dist-packages (from bleach>=2.1.0->readme-renderer>=21.0->twine->wellcomeml) (0.5.1)\n",
            "Requirement already satisfied: chardet<4,>=3.0.2 in /usr/local/lib/python3.7/dist-packages (from requests>=2.20->twine->wellcomeml) (3.0.4)\n",
            "Requirement already satisfied: certifi>=2017.4.17 in /usr/local/lib/python3.7/dist-packages (from requests>=2.20->twine->wellcomeml) (2021.10.8)\n",
            "Collecting urllib3<1.27,>=1.25.4\n",
            "  Downloading urllib3-1.25.11-py2.py3-none-any.whl (127 kB)\n",
            "\u001b[K     |████████████████████████████████| 127 kB 75.8 MB/s \n",
            "\u001b[?25hRequirement already satisfied: idna<3,>=2.5 in /usr/local/lib/python3.7/dist-packages (from requests>=2.20->twine->wellcomeml) (2.10)\n",
            "Collecting cryptography>=2.0\n",
            "  Downloading cryptography-36.0.0-cp36-abi3-manylinux_2_24_x86_64.whl (3.6 MB)\n",
            "\u001b[K     |████████████████████████████████| 3.6 MB 24.6 MB/s \n",
            "\u001b[?25hRequirement already satisfied: cffi>=1.12 in /usr/local/lib/python3.7/dist-packages (from cryptography>=2.0->SecretStorage>=3.2->keyring>=15.1->twine->wellcomeml) (1.15.0)\n",
            "Requirement already satisfied: pycparser in /usr/local/lib/python3.7/dist-packages (from cffi>=1.12->cryptography>=2.0->SecretStorage>=3.2->keyring>=15.1->twine->wellcomeml) (2.21)\n",
            "Requirement already satisfied: pyparsing!=3.0.5,>=2.0.2 in /usr/local/lib/python3.7/dist-packages (from packaging->bleach>=2.1.0->readme-renderer>=21.0->twine->wellcomeml) (3.0.6)\n",
            "Installing collected packages: urllib3, jmespath, jeepney, cryptography, SecretStorage, importlib-metadata, botocore, typed-ast, s3transfer, rfc3986, requests-toolbelt, regex, readme-renderer, pyflakes, pycodestyle, platformdirs, pkginfo, pathspec, mypy-extensions, mccabe, keyring, colorama, twine, flake8, boto3, black, wellcomeml\n",
            "  Attempting uninstall: urllib3\n",
            "    Found existing installation: urllib3 1.24.3\n",
            "    Uninstalling urllib3-1.24.3:\n",
            "      Successfully uninstalled urllib3-1.24.3\n",
            "  Attempting uninstall: importlib-metadata\n",
            "    Found existing installation: importlib-metadata 4.8.2\n",
            "    Uninstalling importlib-metadata-4.8.2:\n",
            "      Successfully uninstalled importlib-metadata-4.8.2\n",
            "  Attempting uninstall: regex\n",
            "    Found existing installation: regex 2019.12.20\n",
            "    Uninstalling regex-2019.12.20:\n",
            "      Successfully uninstalled regex-2019.12.20\n",
            "\u001b[31mERROR: pip's dependency resolver does not currently take into account all the packages that are installed. This behaviour is the source of the following dependency conflicts.\n",
            "markdown 3.3.6 requires importlib-metadata>=4.4; python_version < \"3.10\", but you have importlib-metadata 4.2.0 which is incompatible.\n",
            "datascience 0.10.6 requires folium==0.2.1, but you have folium 0.8.3 which is incompatible.\u001b[0m\n",
            "Successfully installed SecretStorage-3.3.1 black-21.11b1 boto3-1.20.12 botocore-1.23.12 colorama-0.4.4 cryptography-36.0.0 flake8-4.0.1 importlib-metadata-4.2.0 jeepney-0.7.1 jmespath-0.10.0 keyring-23.2.1 mccabe-0.6.1 mypy-extensions-0.4.3 pathspec-0.9.0 pkginfo-1.8.1 platformdirs-2.4.0 pycodestyle-2.8.0 pyflakes-2.4.0 readme-renderer-30.0 regex-2021.11.10 requests-toolbelt-0.9.1 rfc3986-1.5.0 s3transfer-0.5.0 twine-3.6.0 typed-ast-1.5.0 urllib3-1.25.11 wellcomeml-2.0.1\n"
          ]
        }
      ]
    },
    {
      "cell_type": "code",
      "metadata": {
        "id": "BYoYZeBj9dTr"
      },
      "source": [
        "import wellcomeml"
      ],
      "execution_count": null,
      "outputs": []
    },
    {
      "cell_type": "code",
      "metadata": {
        "colab": {
          "base_uri": "https://localhost:8080/",
          "height": 37
        },
        "id": "EBBNQ_Wq9gaK",
        "outputId": "7b27c42c-2913-4e97-ad58-3eb81b5c3097"
      },
      "source": [
        "wellcomeml.__version__"
      ],
      "execution_count": null,
      "outputs": [
        {
          "output_type": "execute_result",
          "data": {
            "application/vnd.google.colaboratory.intrinsic+json": {
              "type": "string"
            },
            "text/plain": [
              "'2.0.1'"
            ]
          },
          "metadata": {},
          "execution_count": 3
        }
      ]
    },
    {
      "cell_type": "markdown",
      "metadata": {
        "id": "PRSacKJ6999N"
      },
      "source": [
        "# 📞 Definining an EPMC API Client\n",
        "\n",
        "\n",
        "\n",
        "An EPMC api client will hit the basic endpoint: \"https://www.ebi.ac.uk/europepmc/webservices/rest\" and get relevant information from a unique identifier (pmid), a group of pmids, or a query. It has several parameters such as exponential backoff in case a query fails - this is particularly relevant for long queries that require a lot of pagination."
      ]
    },
    {
      "cell_type": "code",
      "metadata": {
        "id": "ksSogjn1-cbS"
      },
      "source": [
        "from wellcomeml.io import EPMCClient"
      ],
      "execution_count": null,
      "outputs": []
    },
    {
      "cell_type": "code",
      "metadata": {
        "id": "pGSKkfhGUmA1"
      },
      "source": [
        "epmc_client = EPMCClient(max_retries=3)"
      ],
      "execution_count": null,
      "outputs": []
    },
    {
      "cell_type": "markdown",
      "metadata": {
        "id": "TB3ZtQxOcbk1"
      },
      "source": [
        "Ask for a session at EPMC, inspect a paper and its references."
      ]
    },
    {
      "cell_type": "code",
      "metadata": {
        "id": "-o2X1pVlb_1P"
      },
      "source": [
        "session = epmc_client.requests_session()"
      ],
      "execution_count": null,
      "outputs": []
    },
    {
      "cell_type": "code",
      "metadata": {
        "colab": {
          "base_uri": "https://localhost:8080/"
        },
        "id": "YoVqWK6pcS2V",
        "outputId": "7a484515-e4a3-4e6d-a5d8-c087c8850a9d"
      },
      "source": [
        "paper = epmc_client.search_by_pmid(session, pmid=24287784)"
      ],
      "execution_count": null,
      "outputs": [
        {
          "output_type": "stream",
          "name": "stderr",
          "text": [
            "2021-11-24 16:07:48 wellcomeml.io.epmc.client WARNING: Only returning first entry of search as a dictionary. Will be deprecated in the future and a list of arguments will be returned by default.\n"
          ]
        }
      ]
    },
    {
      "cell_type": "code",
      "metadata": {
        "colab": {
          "base_uri": "https://localhost:8080/"
        },
        "id": "c29YjY7mtAzm",
        "outputId": "c6fd2f89-7660-4fe1-8463-56908ab9ace4"
      },
      "source": [
        "\n",
        "paper"
      ],
      "execution_count": null,
      "outputs": [
        {
          "output_type": "execute_result",
          "data": {
            "text/plain": [
              "{'abstractText': 'A theoretical approach aiming at the prediction of segregation of dopant atoms on nanocrystalline systems is discussed here. It considers the free energy minimization argument in order to provide the most likely dopant distribution as a function of the total doping level. For this, it requires as input (i) a fixed polyhedral geometry with defined facets, and (ii) a set of functions that describe the surface energy as a function of dopant content for different crystallographic planes. Two Sb-doped SnO2 nanocrystalline systems with different morphology and dopant content were selected as a case study, and the calculation of the dopant distributions expected for them is presented in detail. The obtained results were compared to previously reported characterization of this system by a combination of HRTEM and surface energy calculations, and both methods are shown to be equivalent. Considering its application pre-requisites, the present theoretical approach can provide a first estimation of doping atom distribution for a wide range of nanocrystalline systems. We expect that its use will support the reduction of experimental effort for the characterization of doped nanocrystals, and also provide a solution to the characterization of systems where even state-of-art analytical techniques are limited.',\n",
              " 'affiliation': 'Brazilian Nanotechnology National Laboratory, 13083-970, Brazil.',\n",
              " 'authMan': 'N',\n",
              " 'authorIdList': {'authorId': [{'type': 'ORCID',\n",
              "    'value': '0000-0001-9665-5527'},\n",
              "   {'type': 'ORCID', 'value': '0000-0001-9684-2568'},\n",
              "   {'type': 'ORCID', 'value': '0000-0002-4464-0937'},\n",
              "   {'type': 'ORCID', 'value': '0000-0002-7711-1839'},\n",
              "   {'type': 'ORCID', 'value': '0000-0003-0232-3957'}]},\n",
              " 'authorList': {'author': [{'authorAffiliationDetailsList': {'authorAffiliation': [{'affiliation': 'Brazilian Nanotechnology National Laboratory, 13083-970, Brazil.'}]},\n",
              "    'authorId': {'type': 'ORCID', 'value': '0000-0002-7711-1839'},\n",
              "    'firstName': 'Daniel G',\n",
              "    'fullName': 'Stroppa DG',\n",
              "    'initials': 'DG',\n",
              "    'lastName': 'Stroppa'},\n",
              "   {'firstName': 'Luciano A',\n",
              "    'fullName': 'Montoro LA',\n",
              "    'initials': 'LA',\n",
              "    'lastName': 'Montoro'},\n",
              "   {'firstName': 'Antonio',\n",
              "    'fullName': 'Campello A',\n",
              "    'initials': 'A',\n",
              "    'lastName': 'Campello'},\n",
              "   {'authorId': {'type': 'ORCID', 'value': '0000-0001-9684-2568'},\n",
              "    'firstName': 'Lourdes',\n",
              "    'fullName': 'Gracia L',\n",
              "    'initials': 'L',\n",
              "    'lastName': 'Gracia'},\n",
              "   {'authorId': {'type': 'ORCID', 'value': '0000-0001-9665-5527'},\n",
              "    'firstName': 'Armando',\n",
              "    'fullName': 'Beltrán A',\n",
              "    'initials': 'A',\n",
              "    'lastName': 'Beltrán'},\n",
              "   {'authorId': {'type': 'ORCID', 'value': '0000-0003-0232-3957'},\n",
              "    'firstName': 'Juan',\n",
              "    'fullName': 'Andrés J',\n",
              "    'initials': 'J',\n",
              "    'lastName': 'Andrés'},\n",
              "   {'firstName': 'Edson R',\n",
              "    'fullName': 'Leite ER',\n",
              "    'initials': 'ER',\n",
              "    'lastName': 'Leite'},\n",
              "   {'firstName': 'Antonio J',\n",
              "    'fullName': 'Ramirez AJ',\n",
              "    'initials': 'AJ',\n",
              "    'lastName': 'Ramirez'}]},\n",
              " 'authorString': 'Stroppa DG, Montoro LA, Campello A, Gracia L, Beltrán A, Andrés J, Leite ER, Ramirez AJ.',\n",
              " 'citedByCount': 0,\n",
              " 'dateOfCompletion': '2014-09-30',\n",
              " 'dateOfCreation': '2013-12-16',\n",
              " 'doi': '10.1039/c3cp53427h',\n",
              " 'electronicPublicationDate': '2013-11-28',\n",
              " 'epmcAuthMan': 'N',\n",
              " 'firstIndexDate': '2013-11-30',\n",
              " 'firstPublicationDate': '2013-11-28',\n",
              " 'fullTextUrlList': {'fullTextUrl': [{'availability': 'Subscription required',\n",
              "    'availabilityCode': 'S',\n",
              "    'documentStyle': 'doi',\n",
              "    'site': 'DOI',\n",
              "    'url': 'https://doi.org/10.1039/c3cp53427h'}]},\n",
              " 'hasBook': 'N',\n",
              " 'hasData': 'N',\n",
              " 'hasDbCrossReferences': 'N',\n",
              " 'hasLabsLinks': 'N',\n",
              " 'hasPDF': 'N',\n",
              " 'hasReferences': 'Y',\n",
              " 'hasSuppl': 'N',\n",
              " 'hasTMAccessionNumbers': 'N',\n",
              " 'hasTextMinedTerms': 'Y',\n",
              " 'id': '24287784',\n",
              " 'inEPMC': 'N',\n",
              " 'inPMC': 'N',\n",
              " 'isOpenAccess': 'N',\n",
              " 'journalInfo': {'dateOfPublication': '2014 Jan',\n",
              "  'issue': '3',\n",
              "  'journal': {'essn': '1463-9084',\n",
              "   'isoabbreviation': 'Phys Chem Chem Phys',\n",
              "   'issn': '1463-9076',\n",
              "   'medlineAbbreviation': 'Phys Chem Chem Phys',\n",
              "   'nlmid': '100888160',\n",
              "   'title': 'Physical chemistry chemical physics : PCCP'},\n",
              "  'journalIssueId': 2105504,\n",
              "  'monthOfPublication': 1,\n",
              "  'printPublicationDate': '2014-01-01',\n",
              "  'volume': '16',\n",
              "  'yearOfPublication': 2014},\n",
              " 'language': 'eng',\n",
              " 'nihAuthMan': 'N',\n",
              " 'pageInfo': '1089-1094',\n",
              " 'pmid': '24287784',\n",
              " 'pubModel': 'Print-Electronic',\n",
              " 'pubTypeList': {'pubType': ['Journal Article']},\n",
              " 'pubYear': '2014',\n",
              " 'publicationStatus': 'ppublish',\n",
              " 'source': 'MED',\n",
              " 'title': 'Prediction of dopant atom distribution on nanocrystals using thermodynamic arguments.'}"
            ]
          },
          "metadata": {},
          "execution_count": 8
        }
      ]
    },
    {
      "cell_type": "code",
      "metadata": {
        "id": "4VQiAfkRdWQ7"
      },
      "source": [
        "references = epmc_client.get_references(session, pub_id=24287784)"
      ],
      "execution_count": null,
      "outputs": []
    },
    {
      "cell_type": "markdown",
      "metadata": {
        "id": "jhOrrUq9f604"
      },
      "source": [
        "# 🤔 More involving queries\n",
        "\n",
        "The EPMC API is very powerful to answer more complicated questions regarding funding data. Next we'll see how we would approach two of them:\n",
        "- What was the most common topic among the papers published by Wellcome Trust grantees in 2019?\n",
        "- How many publications by Wellcome Trust grantees also involved authors co-funded by other organisations in 2019?\n",
        "\n",
        "** The analysis below is merely illustrative and does not account for all subtleties of the data nor should be quoted externally for any purposes other than this workshop."
      ]
    },
    {
      "cell_type": "code",
      "metadata": {
        "id": "bPTA6b8ogGl1"
      },
      "source": [
        "wellcome_pubs = epmc_client.search(\n",
        "    session, \n",
        "    query='pub_year:2019 and grant_agency:\"Wellcome Trust\"',\n",
        "    page_size=1000,\n",
        "    only_first=False\n",
        ")"
      ],
      "execution_count": null,
      "outputs": []
    },
    {
      "cell_type": "markdown",
      "metadata": {
        "id": "7wJnqj6gihL_"
      },
      "source": [
        "We'll transform the query results into a pandas dataframe, and from there on it's a simple data wrangling exercise! :)"
      ]
    },
    {
      "cell_type": "code",
      "metadata": {
        "id": "8PRSUJ9shTAQ"
      },
      "source": [
        "import pandas as pd\n",
        "\n",
        "wellcome_pubs_df = pd.DataFrame(wellcome_pubs)"
      ],
      "execution_count": null,
      "outputs": []
    },
    {
      "cell_type": "markdown",
      "metadata": {
        "id": "dA9HX_tnj_Gz"
      },
      "source": [
        "Answering the topic question with medical subject headings (MeSH)\n",
        "\n",
        "---\n",
        "\n"
      ]
    },
    {
      "cell_type": "code",
      "metadata": {
        "id": "AX0CcxcdiRNj"
      },
      "source": [
        "all_mesh = wellcome_pubs_df['meshHeadingList'].apply(\n",
        "    lambda row: (\n",
        "        [x['descriptorName'] for x in row['meshHeading']]\n",
        "        if pd.notna(row)\n",
        "        else []\n",
        "    )\n",
        ")"
      ],
      "execution_count": null,
      "outputs": []
    },
    {
      "cell_type": "code",
      "metadata": {
        "colab": {
          "base_uri": "https://localhost:8080/"
        },
        "id": "ZxYaIyAyitEh",
        "outputId": "4d11e0ac-bbd7-4dce-fdb7-f588e91b856f"
      },
      "source": [
        "all_mesh.explode().value_counts()[:20]"
      ],
      "execution_count": null,
      "outputs": [
        {
          "output_type": "execute_result",
          "data": {
            "text/plain": [
              "Humans                        5938\n",
              "Female                        3112\n",
              "Male                          2916\n",
              "Animals                       2229\n",
              "Adult                         1644\n",
              "Middle Aged                   1260\n",
              "Aged                           857\n",
              "Young Adult                    853\n",
              "Mice                           843\n",
              "Adolescent                     801\n",
              "Child                          648\n",
              "Risk Factors                   454\n",
              "Child, Preschool               424\n",
              "Mutation                       395\n",
              "Infant                         387\n",
              "Cohort Studies                 355\n",
              "Brain                          355\n",
              "Magnetic Resonance Imaging     354\n",
              "United Kingdom                 349\n",
              "Signal Transduction            335\n",
              "Name: meshHeadingList, dtype: int64"
            ]
          },
          "metadata": {},
          "execution_count": 55
        }
      ]
    },
    {
      "cell_type": "markdown",
      "metadata": {
        "id": "DSwQ4kkxkFXR"
      },
      "source": [
        "Answering the topic question"
      ]
    },
    {
      "cell_type": "code",
      "metadata": {
        "id": "NyGXtC4okGkc"
      },
      "source": [
        "agencies = wellcome_pubs_df['grantsList'].apply(\n",
        "    lambda row: (\n",
        "        [x['agency'] for x in row['grant']]\n",
        "        if pd.notna(row)\n",
        "        else []\n",
        "    )\n",
        ")\n"
      ],
      "execution_count": null,
      "outputs": []
    },
    {
      "cell_type": "code",
      "metadata": {
        "colab": {
          "base_uri": "https://localhost:8080/"
        },
        "id": "vN88xI_ZkWCA",
        "outputId": "30ecdd3e-8fd2-4f63-80c3-e9efd37898a6"
      },
      "source": [
        "(agencies.apply(len) > 1).mean()"
      ],
      "execution_count": null,
      "outputs": [
        {
          "output_type": "execute_result",
          "data": {
            "text/plain": [
              "0.9098232266726337"
            ]
          },
          "metadata": {},
          "execution_count": 63
        }
      ]
    },
    {
      "cell_type": "markdown",
      "metadata": {
        "id": "Ozo1gS4kk78A"
      },
      "source": [
        "So 90% of WT publications in 2019 were co-funded! "
      ]
    }
  ]
}